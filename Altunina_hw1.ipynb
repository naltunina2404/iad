{
  "nbformat": 4,
  "nbformat_minor": 0,
  "metadata": {
    "kernelspec": {
      "display_name": "Python 3",
      "language": "python",
      "name": "python3"
    },
    "language_info": {
      "codemirror_mode": {
        "name": "ipython",
        "version": 3
      },
      "file_extension": ".py",
      "mimetype": "text/x-python",
      "name": "python",
      "nbconvert_exporter": "python",
      "pygments_lexer": "ipython3",
      "version": "3.7.7"
    },
    "colab": {
      "name": "Altunina_hw1.ipynb",
      "provenance": []
    }
  },
  "cells": [
    {
      "cell_type": "markdown",
      "metadata": {
        "id": "wjfMKw3iDm98"
      },
      "source": [
        "# **DISCLAIMER** \n",
        "\n",
        "Мне очень стыдно, что вы это увидите.\n",
        "\n",
        "Заранее приношу извинения за причененные моральные и визуальные мучения. \n",
        "\n",
        "Я правда очень старалась сделать это задание, пересмотрела все лекции и семинары (некоторые по 3 раза), прочла статьи, где представляют Адама и т.д, потратила правда много времени, чтобы понять и решить. \n",
        "\n",
        "Простите, что это так ужасно и что моих когнитивных способностей не хватает на это ДЗ.\n",
        "\n",
        "\n",
        "![1.jpg](data:image/jpeg;base64,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) "
      ]
    },
    {
      "cell_type": "markdown",
      "metadata": {
        "id": "qk9xfkOFlAFY"
      },
      "source": [
        "## Домашнее задание №1. Алтунина Анастасия. ИАД-4. БЭК181\n",
        "\n",
        "В этом домашнем задании вы познакомитесь с pytorch сами и сможете попрактиковаться в его применении. \n",
        "\n",
        "#### План:\n",
        "\n",
        "1. Простейшие операции в pytorch\n",
        "2. Пишем Adam и применяем его к ручной модели\n",
        "3. Обучаем свою первую нейросеть"
      ]
    },
    {
      "cell_type": "code",
      "metadata": {
        "id": "HCazLq5xlAFZ"
      },
      "source": [
        "import os\n",
        "import sys\n",
        "import math\n",
        "import torch\n",
        "import random\n",
        "import numpy as np\n",
        "from tqdm import tqdm\n",
        "import torch.nn.functional as F\n",
        "import torch.nn as nn\n",
        "import matplotlib.pyplot as plt\n"
      ],
      "execution_count": 1,
      "outputs": []
    },
    {
      "cell_type": "markdown",
      "metadata": {
        "id": "jDotDMzClAFj"
      },
      "source": [
        "### Простейшие операции на pytorch (2 балла)"
      ]
    },
    {
      "cell_type": "markdown",
      "metadata": {
        "id": "hVJ_2VBslAFk"
      },
      "source": [
        "**Task**: Cоздайте два случайных тензора (двумерных, не квадратных):"
      ]
    },
    {
      "cell_type": "code",
      "metadata": {
        "id": "SIyvmPwolAFk",
        "outputId": "828361fe-3f9f-4599-e73c-e0b27f390853",
        "colab": {
          "base_uri": "https://localhost:8080/"
        }
      },
      "source": [
        "x = torch.rand((3, 2)) - 0.25 # чтобы ReLU было чем заняться\n",
        "y = torch.rand((3, 2)) - 0.25\n",
        "x, y"
      ],
      "execution_count": 2,
      "outputs": [
        {
          "output_type": "execute_result",
          "data": {
            "text/plain": [
              "(tensor([[ 0.1427,  0.0401],\n",
              "         [ 0.1027,  0.7480],\n",
              "         [-0.0761,  0.1453]]), tensor([[0.6603, 0.5094],\n",
              "         [0.0563, 0.2152],\n",
              "         [0.4035, 0.0128]]))"
            ]
          },
          "metadata": {
            "tags": []
          },
          "execution_count": 2
        }
      ]
    },
    {
      "cell_type": "markdown",
      "metadata": {
        "id": "lDa970YWlAFo"
      },
      "source": [
        "**Task**: Умножьте их друг на друга, результат запишите в третий тензор без использования оператора `=`, для создания третьего тензора предлагается использовать `torch.empty`:"
      ]
    },
    {
      "cell_type": "code",
      "metadata": {
        "id": "yPmnncyOlAFp",
        "outputId": "ced33756-aeb3-4482-d15f-cb33dc01a2a6",
        "colab": {
          "base_uri": "https://localhost:8080/"
        }
      },
      "source": [
        "torch.empty((3, 3), out=(x @ y.t()))"
      ],
      "execution_count": 3,
      "outputs": [
        {
          "output_type": "execute_result",
          "data": {
            "text/plain": [
              "tensor([[ 0.1146,  0.0167,  0.0581],\n",
              "        [ 0.4489,  0.1668,  0.0510],\n",
              "        [ 0.0238,  0.0270, -0.0289]])"
            ]
          },
          "metadata": {
            "tags": []
          },
          "execution_count": 3
        }
      ]
    },
    {
      "cell_type": "code",
      "metadata": {
        "id": "tqrheTBYARoZ",
        "outputId": "1f9ac15a-5a78-49cd-ab6c-973248ada456",
        "colab": {
          "base_uri": "https://localhost:8080/"
        }
      },
      "source": [
        "torch.matmul(x, y.T)"
      ],
      "execution_count": 4,
      "outputs": [
        {
          "output_type": "execute_result",
          "data": {
            "text/plain": [
              "tensor([[ 0.1146,  0.0167,  0.0581],\n",
              "        [ 0.4489,  0.1668,  0.0510],\n",
              "        [ 0.0238,  0.0270, -0.0289]])"
            ]
          },
          "metadata": {
            "tags": []
          },
          "execution_count": 4
        }
      ]
    },
    {
      "cell_type": "markdown",
      "metadata": {
        "id": "zK-tAw9llAFt"
      },
      "source": [
        "**Task**: Реализуйте ReLU использую только pytorch, примените его к тензору `x` (запрещено использование модулей torch.nn и его подмодулей, а также функции torch.relu)"
      ]
    },
    {
      "cell_type": "code",
      "metadata": {
        "id": "HRl7mO8y6nQe"
      },
      "source": [
        "def relu_forward(x):\n",
        "    pass  \n",
        "    return torch.max(torch.zeros_like(x), x)\n",
        "\n",
        "assert torch.all(F.relu(x) == relu_forward(x))"
      ],
      "execution_count": 5,
      "outputs": []
    },
    {
      "cell_type": "code",
      "metadata": {
        "id": "SCeyP_nWlAFy",
        "outputId": "0ae2cdb8-befe-4e42-a77e-1cd3f72482f9",
        "colab": {
          "base_uri": "https://localhost:8080/"
        }
      },
      "source": [
        "F.relu(y)"
      ],
      "execution_count": 6,
      "outputs": [
        {
          "output_type": "execute_result",
          "data": {
            "text/plain": [
              "tensor([[0.6603, 0.5094],\n",
              "        [0.0563, 0.2152],\n",
              "        [0.4035, 0.0128]])"
            ]
          },
          "metadata": {
            "tags": []
          },
          "execution_count": 6
        }
      ]
    },
    {
      "cell_type": "markdown",
      "metadata": {
        "id": "HyxqRRUolAF1"
      },
      "source": [
        "**Task**: Сделайте тоже самое c ELU (запрещено использование модулей torch.nn и его подмодулей):"
      ]
    },
    {
      "cell_type": "code",
      "metadata": {
        "id": "9bFBar439sAi"
      },
      "source": [
        "def elu_forward(x):\n",
        "    pass\n",
        "    return torch.max(torch.zeros_like(x), x) + torch.min(torch.zeros_like(x), (torch.exp(x) - 1))\n",
        "\n",
        "assert torch.allclose(\n",
        "    F.elu(x),\n",
        "    elu_forward(x), \n",
        "    1e-4\n",
        ")"
      ],
      "execution_count": 7,
      "outputs": []
    },
    {
      "cell_type": "code",
      "metadata": {
        "id": "SPKPHzhQ3lKV",
        "outputId": "7ed9ff14-d3be-4ab3-c417-232ac8c84649",
        "colab": {
          "base_uri": "https://localhost:8080/"
        }
      },
      "source": [
        "F.elu(y)"
      ],
      "execution_count": 8,
      "outputs": [
        {
          "output_type": "execute_result",
          "data": {
            "text/plain": [
              "tensor([[0.6603, 0.5094],\n",
              "        [0.0563, 0.2152],\n",
              "        [0.4035, 0.0128]])"
            ]
          },
          "metadata": {
            "tags": []
          },
          "execution_count": 8
        }
      ]
    },
    {
      "cell_type": "markdown",
      "metadata": {
        "id": "VCPRlThilAF6"
      },
      "source": [
        "**Task**: LeakyReLU (запрещено использование модулей torch.nn и его подмодулей):"
      ]
    },
    {
      "cell_type": "code",
      "metadata": {
        "id": "RDiFYUmwlAF7"
      },
      "source": [
        "def lrelu_forward(x, alpha):\n",
        "    pass\n",
        "    return torch.max(torch.zeros_like(x), x) + alpha * (torch.min(torch.zeros_like(x), x))\n",
        "\n",
        "assert torch.all(F.leaky_relu(x, 0.01) == lrelu_forward(x, 0.01))"
      ],
      "execution_count": 9,
      "outputs": []
    },
    {
      "cell_type": "code",
      "metadata": {
        "id": "q9-m7uqJ4Pm_",
        "outputId": "809fc294-0e3b-4764-8518-c39e48d778c4",
        "colab": {
          "base_uri": "https://localhost:8080/"
        }
      },
      "source": [
        "F.leaky_relu(x)"
      ],
      "execution_count": 10,
      "outputs": [
        {
          "output_type": "execute_result",
          "data": {
            "text/plain": [
              "tensor([[ 0.1427,  0.0401],\n",
              "        [ 0.1027,  0.7480],\n",
              "        [-0.0008,  0.1453]])"
            ]
          },
          "metadata": {
            "tags": []
          },
          "execution_count": 10
        }
      ]
    },
    {
      "cell_type": "markdown",
      "metadata": {
        "id": "H-b2eW89lAF-"
      },
      "source": [
        "**Task**: Теперь перейдем к немного более современным функциям активаций, например Mish, напомним как она выглядит:\n",
        "\n",
        "$$x * tanh(ln(1+e^x))$$\n",
        "\n",
        "(запрещено использование модулей torch.nn и его подмодулей)"
      ]
    },
    {
      "cell_type": "code",
      "metadata": {
        "id": "VT4sxuzllAF_"
      },
      "source": [
        "def mish(x):\n",
        "    pass\n",
        "    return x *(torch.tanh(torch.log(1+torch.exp(x))))"
      ],
      "execution_count": 11,
      "outputs": []
    },
    {
      "cell_type": "code",
      "metadata": {
        "id": "mcbIwmqblAGC"
      },
      "source": [
        "assert torch.allclose(\n",
        "    mish(torch.tensor([1, 1, 1], dtype=torch.float32)), \n",
        "    torch.tensor([0.8651, 0.8651, 0.8651]), \n",
        "    atol=1e-4\n",
        ")\n",
        "\n",
        "assert torch.allclose(\n",
        "    mish(torch.tensor([0.6376, 0.4021, 0.6656, 0.3726], dtype=torch.float64)), \n",
        "    torch.tensor([0.5014, 0.2908, 0.5280, 0.2663], dtype=torch.float64), \n",
        "    atol=1e-4\n",
        ")"
      ],
      "execution_count": 12,
      "outputs": []
    },
    {
      "cell_type": "code",
      "metadata": {
        "id": "IccMq-Mc5CgO",
        "outputId": "e3fdad1e-fba7-44d9-82cf-07b39db09387",
        "colab": {
          "base_uri": "https://localhost:8080/"
        }
      },
      "source": [
        "mish(x)"
      ],
      "execution_count": 13,
      "outputs": [
        {
          "output_type": "execute_result",
          "data": {
            "text/plain": [
              "tensor([[ 0.0920,  0.0246],\n",
              "        [ 0.0650,  0.6081],\n",
              "        [-0.0438,  0.0939]])"
            ]
          },
          "metadata": {
            "tags": []
          },
          "execution_count": 13
        }
      ]
    },
    {
      "cell_type": "markdown",
      "metadata": {
        "id": "bRsNQc0FlAGF"
      },
      "source": [
        "**Task**: Теперь реализуем swish, напомним как она выглядит:\n",
        "\n",
        "$$x * \\sigma(x)$$\n",
        "\n",
        "(запрещено использование модулей torch.nn и его подмодулей)"
      ]
    },
    {
      "cell_type": "code",
      "metadata": {
        "id": "O4hbNiLclAGG"
      },
      "source": [
        "def swish(x):\n",
        "    pass\n",
        "    return (x * (1/(1+torch.exp(-x))))"
      ],
      "execution_count": 14,
      "outputs": []
    },
    {
      "cell_type": "code",
      "metadata": {
        "id": "EC4gVVPblAGJ"
      },
      "source": [
        "assert torch.allclose(\n",
        "    swish(torch.tensor([1, 1, 1], dtype=torch.float32)), \n",
        "    torch.tensor([0.7311, 0.7311, 0.7311]), \n",
        "    atol=1e-4\n",
        ")\n",
        "\n",
        "assert torch.allclose(\n",
        "    swish(torch.tensor([0.6376, 0.4021, 0.6656, 0.3726], dtype=torch.float64)), \n",
        "    torch.tensor([0.4171, 0.2409, 0.4396, 0.2206], dtype=torch.float64), \n",
        "    atol=1e-4\n",
        ")"
      ],
      "execution_count": 15,
      "outputs": []
    },
    {
      "cell_type": "code",
      "metadata": {
        "id": "iB4U1vLiA7rF",
        "outputId": "455e3edc-6c15-4b3f-ac05-d70d2a6fcd12",
        "colab": {
          "base_uri": "https://localhost:8080/"
        }
      },
      "source": [
        "swish(x)"
      ],
      "execution_count": 16,
      "outputs": [
        {
          "output_type": "execute_result",
          "data": {
            "text/plain": [
              "tensor([[ 0.0764,  0.0204],\n",
              "        [ 0.0540,  0.5077],\n",
              "        [-0.0366,  0.0779]])"
            ]
          },
          "metadata": {
            "tags": []
          },
          "execution_count": 16
        }
      ]
    },
    {
      "cell_type": "markdown",
      "metadata": {
        "id": "1Q2N0xA1lAGM"
      },
      "source": [
        "### Пишем Adam и применяем его к логистической регрессии (4 балла)\n",
        "\n",
        "\n",
        "В данной секции вам нужно сделать две вещи: \n",
        "\n",
        "1. Написать свой собственный оптимизатор подобно тому, который мы писали на семинаре\n",
        "2. Обучить логистическую регрессию побатчево на картинках из датасета \n",
        "\n",
        "\n",
        "#### Adam\n",
        "\n",
        "\n",
        "$$\n",
        "\\begin{eqnarray}\n",
        "g &=& \\frac{1}{m}\\nabla_w \\sum_i L(f(x_{i};w), y_{i}) \\\\\n",
        "m &=& \\beta_1 m + (1 - \\beta_1) g \\\\\n",
        "v &=& \\beta_2 v + (1 - \\beta_2) diag(gg^{T}) \\\\\n",
        "\\hat{m} &=& \\frac{m}{1 - \\beta_1^{t}} \\\\\n",
        "\\hat{v} &=& \\frac{v}{1 - \\beta_2^{t}} \\\\\n",
        "w &=& w - \\frac{\\eta}{\\sqrt{\\hat{v} + \\epsilon}} \\odot \\hat{m}\n",
        "\\end{eqnarray}\n",
        "$$"
      ]
    },
    {
      "cell_type": "code",
      "metadata": {
        "id": "yiYFHaDnlAGN"
      },
      "source": [
        "# абстрактный класс, не обращайте внимания\n",
        "from torch.optim import Optimizer\n",
        "\n",
        "\n",
        "class InClassOptimizer(Optimizer):\n",
        "    def step(self):\n",
        "        \"\"\"Perform single optimization step.\"\"\"\n",
        "        with torch.no_grad(): # выключим градиенты\n",
        "            for group in self.param_groups:\n",
        "                self._group_step(group)\n",
        "\n",
        "    def _group_step(self, group):\n",
        "        # group ~ dict[str, ...]\n",
        "        \"\"\"\n",
        "        Private helper function to perform\n",
        "        single optimization step on model parameters.\n",
        "        \"\"\"\n",
        "        raise NotImplementedError()"
      ],
      "execution_count": 17,
      "outputs": []
    },
    {
      "cell_type": "markdown",
      "metadata": {
        "id": "GjukdeQklAGS"
      },
      "source": [
        "**Task**: Напишите свою реализацию Adam:\n",
        "\n",
        "#### Adam\n",
        "\n",
        "\n",
        "$$\n",
        "\\begin{eqnarray}\n",
        "g &=& \\frac{1}{m}\\nabla_w \\sum_i L(f(x_{i};w), y_{i}) \\\\\n",
        "m &=& \\beta_1 m + (1 - \\beta_1) g \\\\\n",
        "v &=& \\beta_2 v + (1 - \\beta_2) diag(gg^{T}) \\\\\n",
        "\\hat{m} &=& \\frac{m}{1 - \\beta_1^{t}} \\\\\n",
        "\\hat{v} &=& \\frac{v}{1 - \\beta_2^{t}} \\\\\n",
        "w &=& w - \\frac{\\eta}{\\sqrt{\\hat{v} + \\epsilon}} \\odot \\hat{m}\n",
        "\\end{eqnarray}\n",
        "$$"
      ]
    },
    {
      "cell_type": "code",
      "metadata": {
        "id": "BsTR606PlAGS"
      },
      "source": [
        "class Adam(InClassOptimizer):\n",
        "    def __init__(self, params, lr=0.001, eps=1e-13, beta_1=0.9, beta_2=0.999):\n",
        "        defaults = dict(lr=lr, eps=eps, beta_1=beta_1, beta_2=beta_2)\n",
        "        super().__init__(params, defaults)\n",
        "\n",
        "    def _group_step(self, group):\n",
        "        # One group contains information about values passed in init\n",
        "        # and model parameters to update\n",
        "        lr = group['lr']\n",
        "        eps = group['eps']\n",
        "        beta_1 = group['beta_1']\n",
        "        beta_2 = group['beta_2']\n",
        "        for param in filter(lambda x: x.grad is not None, group['params']):\n",
        "            self._init_adam_buffer(param)\n",
        "            d_param = param.grad\n",
        "    \n",
        "            buffer = self._get_adam_buffer(param)\n",
        "            t = buffer['step']\n",
        "            mom2 = buffer['momentum2']\n",
        "            buffer['momentum'].mul_(beta_1)\n",
        "            buffer['momentum'].add_(d_param, alpha=(1-beta_1))\n",
        "\n",
        "            buffer['momentum2'].mul_(beta_2)\n",
        "            buffer['momentum2'].add_(d_param ** 2, alpha=(1-beta_2))\n",
        "        \n",
        "            h_mom2 = buffer['momentum2'] / (1 - beta_2 ** t)\n",
        "            h_mom = buffer['momentum'] / (1 - beta_1 ** t)\n",
        "            buffer['step'] += 1\n",
        "            param.add_(h_mom / torch.sqrt(h_mom2 + eps), alpha=-lr)\n",
        "\n",
        "    def _get_adam_buffer(self, param):\n",
        "        \"\"\"\n",
        "        Get accumulated gradients for Adam.\n",
        "\n",
        "        Parameters\n",
        "        ----------\n",
        "        param : `torch.Tensor`, required\n",
        "            Model parameter to get accumulated gradeints for Adagrad.\n",
        "\n",
        "        Returns\n",
        "        -------\n",
        "        Accumulated Adam gradients for parameter.\n",
        "        \"\"\"\n",
        "        param_state = self.state[param]\n",
        "        return param_state['adam_buffer']\n",
        "\n",
        "    def _init_adam_buffer(self, param):\n",
        "        \"\"\"\n",
        "        Initialize accumulated gradeints for adam.\n",
        "\n",
        "        Parameters\n",
        "        ----------\n",
        "        param : `torch.Tensor`, required\n",
        "            Model parameter to get accumulated gradeints for adam.\n",
        "        \"\"\"\n",
        "        param_state = self.state[param]\n",
        "        if 'adam_buffer' not in param_state:\n",
        "            param_state['adam_buffer'] = {\"step\": 1, \"momentum\": torch.zeros_like(param), \"momentum2\": torch.zeros_like(param)}"
      ],
      "execution_count": 18,
      "outputs": []
    },
    {
      "cell_type": "markdown",
      "metadata": {
        "id": "xjxmP3aqlAGV"
      },
      "source": [
        "**Task**: Создайте параметры для обучения логистической регрессии, сделаем Xavier ициализацию, которая выглядит следующим образом: \n",
        "\n",
        "$$w \\sim U[-\\frac{\\sqrt{6}}{\\sqrt{n_{in} + n_{out}}}, \\frac{\\sqrt{6}}{\\sqrt{n_{in} + n_{out}}}]$$\n",
        "\n",
        "где: \n",
        "\n",
        "* $n_{in}$ -- размер входа (в нейронах) \n",
        "* $n_{out}$ -- размер выхода (в нейронах)\n",
        "\n",
        "Подумайте над выбором $n_{in}$ и $n_{out}$ самостоятельно. "
      ]
    },
    {
      "cell_type": "markdown",
      "metadata": {
        "id": "xofsX6YoJi02"
      },
      "source": [
        "```\n",
        "n_in = 784\n",
        "n_out = 10\n",
        "```\n",
        "Потому что у нас 10 классов (цифр, изображенных на картинках) и 784 входных параметров - пикселей на каждой картинке (картинки размером $28$ x $28$).\n"
      ]
    },
    {
      "cell_type": "code",
      "metadata": {
        "id": "Jok9Ze0rlAGW"
      },
      "source": [
        "n_in = 784\n",
        "n_out = 10\n",
        "weights = torch.FloatTensor(10, 784).uniform_(-math.sqrt(6)/math.sqrt(n_in+n_out), math.sqrt(6)/math.sqrt(n_in+n_out))\n",
        "intercept = torch.zeros(10)"
      ],
      "execution_count": 19,
      "outputs": []
    },
    {
      "cell_type": "code",
      "metadata": {
        "id": "sFntd2rElAGZ"
      },
      "source": [
        "optimizer = Adam([weights, intercept])\n",
        "criterion = nn.CrossEntropyLoss()"
      ],
      "execution_count": 20,
      "outputs": []
    },
    {
      "cell_type": "markdown",
      "metadata": {
        "id": "QU7-BjoIlAGd"
      },
      "source": [
        "Загрузим данные и создадим даталоадеры:"
      ]
    },
    {
      "cell_type": "code",
      "metadata": {
        "id": "D3vY9H39lAGe"
      },
      "source": [
        "from torch.utils.data import DataLoader\n",
        "import torchvision\n",
        "import torchvision.transforms as transforms\n",
        "\n",
        "fashion_mnist_train = torchvision.datasets.FashionMNIST(\n",
        "    './data',\n",
        "    download=True,\n",
        "    transform=transforms.Compose([transforms.ToTensor()]))\n",
        "\n",
        "train_dataloader = DataLoader(fashion_mnist_train, \n",
        "                              batch_size=100, shuffle=True, num_workers=2)\n",
        "\n",
        "fashion_mnist_eval = torchvision.datasets.FashionMNIST(\n",
        "    './data',\n",
        "    train=False,\n",
        "    download=True,\n",
        "    transform=transforms.Compose([transforms.ToTensor()]))\n",
        "\n",
        "eval_dataloader = DataLoader(\n",
        "    fashion_mnist_eval, batch_size=100, shuffle=True, num_workers=2)"
      ],
      "execution_count": 21,
      "outputs": []
    },
    {
      "cell_type": "markdown",
      "metadata": {
        "id": "LiZSfWIvlAGm"
      },
      "source": [
        "Напишите функцию для тренировки логистической регрессии, она должна: \n",
        "    * Делать предсказания \n",
        "    * Считать лосс \n",
        "    * Подсчитывать градиенты\n",
        "    * Делать шаг оптимизации\n",
        "    * Обнулять посчитанные градиенты\n",
        "    * Считать метрики \n",
        "    * Возвращать полученные метрики\n",
        "    \n",
        "После этого предусмотрите возможность визуализировать метрики, чтобы нарисовать картинки, а именно от вас требуется визуализировать: \n",
        "\n",
        "    * Зависимость лосса от количества итераций\n",
        "    * Зависимость доли правильных ответов от количества итераций"
      ]
    },
    {
      "cell_type": "code",
      "metadata": {
        "id": "qd9xaGnnDQHh"
      },
      "source": [
        "def train_logistic_regression(weights, bias, batch, loss, optimizer):\n",
        "    x = batch[0].view(784, 10)\n",
        "    y = batch[1]\n",
        "    size = x.shape[0]\n",
        "    for i in range(len(batch)): \n",
        "        sigma = 1 / (1 + torch.exp((torch.matmul(x, weights.T) + bias)))\n",
        "        loss = -1/size * torch.sum(y * torch.log(sigma)) + (1 - y) * torch.log(1-sigma)\n",
        "        dW = 1/size * torch.matmul(x.T, (sigma - y))\n",
        "        db = 1/size * torch.sum(sigma - y)\n",
        "        weights -= learning_rate * dW\n",
        "        bias -= learning_rate * db \n",
        "    return (weight, bias)"
      ],
      "execution_count": 8,
      "outputs": []
    },
    {
      "cell_type": "code",
      "metadata": {
        "id": "mRgR1Z2HlAGp"
      },
      "source": [
        "learning_rate = 0.02 \n",
        "loss = nn.CrossEntropyLoss()\n",
        "for epoch in range(1, 100):\n",
        "    for batch in train_dataloader:\n",
        "        metrics = train_logistic_regression(weights, bias, batch, loss, optimizer)"
      ],
      "execution_count": null,
      "outputs": []
    },
    {
      "cell_type": "code",
      "metadata": {
        "id": "NzXQcj7JYoMu",
        "outputId": "6a837e55-d421-4aa1-b2c5-4b6f49edf4b8",
        "colab": {
          "base_uri": "https://localhost:8080/"
        }
      },
      "source": [
        "import torch\n",
        "from torch.autograd import Variable\n",
        "import torchvision.transforms as transforms\n",
        "import torchvision.datasets as dsets\n",
        "\n",
        "batch_size = 100\n",
        "n_iters = 3000\n",
        "epochs = 100\n",
        "input_dim = 784\n",
        "output_dim = 10\n",
        "lr_rate = 0.001\n",
        "iter = 0\n",
        "iters = list()\n",
        "losses = list()\n",
        "accuracies = list()\n",
        "\n",
        "train_dataset = fashion_mnist_train\n",
        "test_dataset = fashion_mnist_eval\n",
        "\n",
        "\n",
        "train_loader = train_dataloader\n",
        "test_loader = eval_dataloader\n",
        "\n",
        "class LogisticRegression(torch.nn.Module):\n",
        "    def __init__(self, input_dim, output_dim):\n",
        "        super(LogisticRegression, self).__init__()\n",
        "        self.linear = torch.nn.Linear(input_dim, output_dim)\n",
        "\n",
        "    def forward(self, x):\n",
        "        outputs = self.linear(x)\n",
        "        return outputs\n",
        "\n",
        "model = LogisticRegression(input_dim, output_dim)\n",
        "criterion = torch.nn.CrossEntropyLoss()\n",
        "optimizer = Adam(model.parameters()) #Adam([weights, intercept]) \n",
        "\n",
        "\n",
        "for epoch in range(1, 30):\n",
        "  for i, (images, labels) in enumerate(train_loader):\n",
        "        images = Variable(images.view(-1, 28 * 28))\n",
        "        labels = Variable(labels)\n",
        "\n",
        "        optimizer.zero_grad()\n",
        "        outputs = model(images)\n",
        "        loss = criterion(outputs, labels)\n",
        "        loss.backward()\n",
        "        optimizer.step()\n",
        "\n",
        "        iter+=1\n",
        "        if iter%500==0:\n",
        "            correct = 0\n",
        "            total = 0\n",
        "            for images, labels in test_loader:\n",
        "                images = Variable(images.view(-1, 28*28))\n",
        "                images = images.float()\n",
        "                outputs = model(images)\n",
        "                _, predicted = torch.max(outputs.data, 1)\n",
        "                total+= float(labels.size(0))\n",
        "                # for gpu, bring the predicted and labels back to cpu fro python operations to work\n",
        "                correct+= (predicted == labels).sum().float()\n",
        "            accuracy = 100 * (correct / total)\n",
        "            iters.append(iter)\n",
        "            losses.append(loss.item())\n",
        "            accuracies.append(accuracy)\n",
        "            print(\"Iteration: {}. Loss: {}. Accuracy: {}.\".format(iter, loss.item(), accuracy))"
      ],
      "execution_count": 23,
      "outputs": [
        {
          "output_type": "stream",
          "text": [
            "Iteration: 500. Loss: 0.43645909428596497. Accuracy: 80.58999633789062.\n",
            "Iteration: 1000. Loss: 0.434006929397583. Accuracy: 82.27000427246094.\n",
            "Iteration: 1500. Loss: 0.410329669713974. Accuracy: 83.26000213623047.\n",
            "Iteration: 2000. Loss: 0.34544268250465393. Accuracy: 83.61000061035156.\n",
            "Iteration: 2500. Loss: 0.5305755734443665. Accuracy: 83.52000427246094.\n",
            "Iteration: 3000. Loss: 0.430210679769516. Accuracy: 83.94000244140625.\n",
            "Iteration: 3500. Loss: 0.5236878991127014. Accuracy: 83.7300033569336.\n",
            "Iteration: 4000. Loss: 0.4344162046909332. Accuracy: 83.95000457763672.\n",
            "Iteration: 4500. Loss: 0.3154470920562744. Accuracy: 84.11000061035156.\n",
            "Iteration: 5000. Loss: 0.5139772891998291. Accuracy: 84.30000305175781.\n",
            "Iteration: 5500. Loss: 0.4140048623085022. Accuracy: 84.47000122070312.\n",
            "Iteration: 6000. Loss: 0.3847584128379822. Accuracy: 84.41000366210938.\n",
            "Iteration: 6500. Loss: 0.35002583265304565. Accuracy: 84.19999694824219.\n",
            "Iteration: 7000. Loss: 0.3216848373413086. Accuracy: 84.55999755859375.\n",
            "Iteration: 7500. Loss: 0.3802938461303711. Accuracy: 84.4000015258789.\n",
            "Iteration: 8000. Loss: 0.435800164937973. Accuracy: 84.44999694824219.\n",
            "Iteration: 8500. Loss: 0.3829055726528168. Accuracy: 84.72000122070312.\n",
            "Iteration: 9000. Loss: 0.4219418466091156. Accuracy: 84.43000030517578.\n",
            "Iteration: 9500. Loss: 0.33415642380714417. Accuracy: 84.43000030517578.\n",
            "Iteration: 10000. Loss: 0.3156388998031616. Accuracy: 84.62999725341797.\n",
            "Iteration: 10500. Loss: 0.34931179881095886. Accuracy: 84.36000061035156.\n",
            "Iteration: 11000. Loss: 0.496553510427475. Accuracy: 84.47999572753906.\n",
            "Iteration: 11500. Loss: 0.35984039306640625. Accuracy: 84.48999786376953.\n",
            "Iteration: 12000. Loss: 0.32748058438301086. Accuracy: 84.47999572753906.\n",
            "Iteration: 12500. Loss: 0.3803255558013916. Accuracy: 84.72000122070312.\n",
            "Iteration: 13000. Loss: 0.4675005376338959. Accuracy: 84.51000213623047.\n",
            "Iteration: 13500. Loss: 0.3700554668903351. Accuracy: 84.31999969482422.\n",
            "Iteration: 14000. Loss: 0.34824374318122864. Accuracy: 84.68000030517578.\n",
            "Iteration: 14500. Loss: 0.4034384787082672. Accuracy: 84.36000061035156.\n",
            "Iteration: 15000. Loss: 0.18924985826015472. Accuracy: 84.79999542236328.\n",
            "Iteration: 15500. Loss: 0.356110543012619. Accuracy: 84.81999969482422.\n",
            "Iteration: 16000. Loss: 0.4755074381828308. Accuracy: 84.72000122070312.\n",
            "Iteration: 16500. Loss: 0.4519559144973755. Accuracy: 84.54000091552734.\n",
            "Iteration: 17000. Loss: 0.595564603805542. Accuracy: 84.37999725341797.\n"
          ],
          "name": "stdout"
        }
      ]
    },
    {
      "cell_type": "code",
      "metadata": {
        "id": "8Yc4gKNweAgs",
        "outputId": "9a665a5a-5e54-470d-98f2-67505eff3d90",
        "colab": {
          "base_uri": "https://localhost:8080/",
          "height": 295
        }
      },
      "source": [
        "plt.plot(iters, losses, \n",
        "    label='loss_iter', c='red'\n",
        ")\n",
        "plt.title('Loss rate by iters')\n",
        "plt.xlabel('iterations')\n",
        "plt.ylabel('loss')\n",
        "plt.show()"
      ],
      "execution_count": 24,
      "outputs": [
        {
          "output_type": "display_data",
          "data": {
            "image/png": "[encoded data removed]",
            "text/plain": [
              "<Figure size 432x288 with 1 Axes>"
            ]
          },
          "metadata": {
            "tags": [],
            "needs_background": "light"
          }
        }
      ]
    },
    {
      "cell_type": "code",
      "metadata": {
        "id": "VBApwuMLiPNV",
        "outputId": "69f954b1-e42d-44b1-a919-9c851a685dfd",
        "colab": {
          "base_uri": "https://localhost:8080/",
          "height": 295
        }
      },
      "source": [
        "plt.plot(iters, accuracies, \n",
        "    label='loss_iter', c='red'\n",
        ")\n",
        "plt.title('Accuracy by iters')\n",
        "plt.xlabel('iterations')\n",
        "plt.ylabel('accuracy')\n",
        "plt.show()"
      ],
      "execution_count": 25,
      "outputs": [
        {
          "output_type": "display_data",
          "data": {
            "image/png": "[encoded data removed]",
            "text/plain": [
              "<Figure size 432x288 with 1 Axes>"
            ]
          },
          "metadata": {
            "tags": [],
            "needs_background": "light"
          }
        }
      ]
    },
    {
      "cell_type": "markdown",
      "metadata": {
        "id": "OCjW9O_XlAGs"
      },
      "source": [
        "#### Вопросы к секции: \n",
        "\n",
        "* Своими словами и без математики объясните благодаря чему Adam дает несмещенную оценку на квадрат градиента\n",
        "* Когда модель начала переобучаться? Как вы это поняли? Сделайте визуализацию и докажите свою точку зрения."
      ]
    },
    {
      "cell_type": "markdown",
      "metadata": {
        "id": "8ObZ76G8Hvuj"
      },
      "source": [
        "## Ответ:\n",
        "\n",
        "$\\bullet$ Потому что он берет при обновлении моментума-2 крадрат градиента и прибавляет его (диагональную матрицу с кваратами элементов градиента, если быть точной) к старому значению, умноженному на коэффициент, то есть происходит движение в направлении, которое задается этим моентумом-2. Если взять матожадание от самого веса на шаге t (при этом нужно перенести туда еще и старое значение моментума-2), то получим, что оно равно матожиданию  квадрата градиента, умноженному на выражение с параметрами бета-2, что и значит, то получается несмещенная оценка на квадрат градиента.\n",
        "\n",
        "$\\bullet$ Модель начала переобучаться, когда accuracy перестала расти, а loss при этом сильно разбрасывает. Примерно на 15-16 эпохе."
      ]
    },
    {
      "cell_type": "markdown",
      "metadata": {
        "id": "0jlNJ9GclAGt"
      },
      "source": [
        "### Моя первая нейросеть (4 балла)"
      ]
    },
    {
      "cell_type": "markdown",
      "metadata": {
        "id": "I3ydyV_GlAGt"
      },
      "source": [
        "В данной секции вам нужно сделать следующие вещи: \n",
        "\n",
        "* Реализовать три разных архитектуры нейросетей. Эти архитектуры должны принципиально отличаться друг от друга. Разрешается одной из архитекур брать полностью полносвязную модель. Остальные две должны быть сверточными и сильно отличаться друг от друга. К примеру, одна из таких архитектур может быть VGG подобная сеть, а другая ResNet подобная архитектура. \n",
        "\n",
        "* Написать цикл для обучения которым можно обучать все три модели без изменений кода\n",
        "\n",
        "* Попробовать каждую модель с двумя оптимизаторами: RMSprop и SGD with momentum\n",
        "\n",
        "* Визуализировать результаты перфоманса каждой модели (две метрики минимум для каждого сетапа, например, лосс и долю правильных ответов). В данном пункте мы ждем от вас визуализацию зависимости метрики от номера итерации обучения.\n",
        "\n",
        "* Сделать выводы какие были модели были лучше и как вы думаете почему?"
      ]
    },
    {
      "cell_type": "code",
      "metadata": {
        "id": "ansmf-gYOYrj"
      },
      "source": [
        "batch_size = 100\n",
        "n_iters = 3000\n",
        "epochs = 100\n",
        "input_dim = 784\n",
        "output_dim = 10\n",
        "lr_rate = 0.001\n",
        "iter = 0"
      ],
      "execution_count": null,
      "outputs": []
    },
    {
      "cell_type": "code",
      "metadata": {
        "id": "BF_vngTZlAGu"
      },
      "source": [
        "def train_model(model, dataloader, optimizer):\n",
        "    model = model.train()\n",
        "    dataloader"
      ],
      "execution_count": null,
      "outputs": []
    },
    {
      "cell_type": "code",
      "metadata": {
        "id": "TJtiFSg2lAG0"
      },
      "source": [
        "second_model = nn.Sequential(\n",
        "    nn.Conv2d(1, 16, 3, padding=1),\n",
        "    nn.BatchNorm2d(16),\n",
        "    nn.ReLU(),\n",
        "    nn.Conv2d(16, 16, 3, padding=1),\n",
        "    nn.BatchNorm2d(16),\n",
        "    nn.ReLU(),\n",
        "    nn.MaxPool2d(2, 2),\n",
        "    nn.Dropout(0.2),\n",
        "\n",
        "    nn.Conv2d(16, 32, 3, padding=1),\n",
        "    nn.BatchNorm2d(32),\n",
        "    nn.ReLU(),\n",
        "    nn.Conv2d(32, 32, 3, padding=1),\n",
        "    nn.BatchNorm2d(32),\n",
        "    nn.ReLU(),\n",
        "    nn.MaxPool2d(2, 2),\n",
        "    nn.Dropout(0.2),\n",
        "\n",
        "    nn.Conv2d(32, 64, 3, padding=1),\n",
        "    nn.BatchNorm2d(64),\n",
        "    nn.ReLU(),\n",
        "    nn.Conv2d(64, 64, 3, padding=1),\n",
        "    nn.BatchNorm2d(64),\n",
        "    nn.ReLU(),\n",
        "    nn.MaxPool2d(2, 2),\n",
        "    nn.Dropout(0.2),\n",
        "\n",
        "    nn.Flatten(),\n",
        "    nn.Linear(64 * 4 * 4, 128),\n",
        "    nn.BatchNorm1d(128),\n",
        "    nn.ReLU(),\n",
        "    nn.Dropout(0.5),\n",
        "    nn.Linear(128, 10),\n",
        "    nn.Softmax()\n",
        ")"
      ],
      "execution_count": null,
      "outputs": []
    },
    {
      "cell_type": "code",
      "metadata": {
        "id": "zVbfEK2FvDF0",
        "outputId": "2a4686f9-75de-4c4b-bdfb-923645c83760",
        "colab": {
          "base_uri": "https://localhost:8080/",
          "height": 567
        }
      },
      "source": [
        "second_model.to(device)"
      ],
      "execution_count": null,
      "outputs": [
        {
          "output_type": "execute_result",
          "data": {
            "text/plain": [
              "Sequential(\n",
              "  (0): Conv2d(3, 16, kernel_size=(3, 3), stride=(1, 1), padding=(1, 1))\n",
              "  (1): BatchNorm2d(16, eps=1e-05, momentum=0.1, affine=True, track_running_stats=True)\n",
              "  (2): ReLU()\n",
              "  (3): Conv2d(16, 16, kernel_size=(3, 3), stride=(1, 1), padding=(1, 1))\n",
              "  (4): BatchNorm2d(16, eps=1e-05, momentum=0.1, affine=True, track_running_stats=True)\n",
              "  (5): ReLU()\n",
              "  (6): MaxPool2d(kernel_size=2, stride=2, padding=0, dilation=1, ceil_mode=False)\n",
              "  (7): Dropout(p=0.2, inplace=False)\n",
              "  (8): Conv2d(16, 32, kernel_size=(3, 3), stride=(1, 1), padding=(1, 1))\n",
              "  (9): BatchNorm2d(32, eps=1e-05, momentum=0.1, affine=True, track_running_stats=True)\n",
              "  (10): ReLU()\n",
              "  (11): Conv2d(32, 32, kernel_size=(3, 3), stride=(1, 1), padding=(1, 1))\n",
              "  (12): BatchNorm2d(32, eps=1e-05, momentum=0.1, affine=True, track_running_stats=True)\n",
              "  (13): ReLU()\n",
              "  (14): MaxPool2d(kernel_size=2, stride=2, padding=0, dilation=1, ceil_mode=False)\n",
              "  (15): Dropout(p=0.2, inplace=False)\n",
              "  (16): Conv2d(32, 64, kernel_size=(3, 3), stride=(1, 1), padding=(1, 1))\n",
              "  (17): BatchNorm2d(64, eps=1e-05, momentum=0.1, affine=True, track_running_stats=True)\n",
              "  (18): ReLU()\n",
              "  (19): Conv2d(64, 64, kernel_size=(3, 3), stride=(1, 1), padding=(1, 1))\n",
              "  (20): BatchNorm2d(64, eps=1e-05, momentum=0.1, affine=True, track_running_stats=True)\n",
              "  (21): ReLU()\n",
              "  (22): MaxPool2d(kernel_size=2, stride=2, padding=0, dilation=1, ceil_mode=False)\n",
              "  (23): Dropout(p=0.2, inplace=False)\n",
              "  (24): Flatten()\n",
              "  (25): Linear(in_features=1024, out_features=128, bias=True)\n",
              "  (26): BatchNorm1d(128, eps=1e-05, momentum=0.1, affine=True, track_running_stats=True)\n",
              "  (27): ReLU()\n",
              "  (28): Dropout(p=0.5, inplace=False)\n",
              "  (29): Linear(in_features=128, out_features=10, bias=True)\n",
              "  (30): Softmax(dim=None)\n",
              ")"
            ]
          },
          "metadata": {
            "tags": []
          },
          "execution_count": 258
        }
      ]
    },
    {
      "cell_type": "code",
      "metadata": {
        "id": "-adu3ZQtRiI2"
      },
      "source": [
        "class LogisticRegression(torch.nn.Module):\n",
        "    def __init__(self, input_dim, output_dim):\n",
        "        super(LogisticRegression, self).__init__()\n",
        "        self.linear = torch.nn.Linear(input_dim, output_dim)\n",
        "\n",
        "    def forward(self, x):\n",
        "        outputs = self.linear(x)\n",
        "        return outputs"
      ],
      "execution_count": null,
      "outputs": []
    },
    {
      "cell_type": "code",
      "metadata": {
        "id": "WXAJ6Uzcq7vm"
      },
      "source": [
        "class Model(nn.Module):\n",
        "    def __init__(self):\n",
        "        super(Model, self).__init__()\n",
        "        self.vgg = nn.Sequential(\n",
        "            nn.Conv2d(1, 16, 3, padding=1),\n",
        "            nn.ReLU(),\n",
        "            nn.Conv2d(16, 16, 3, padding=1),\n",
        "            nn.ReLU(),\n",
        "            nn.MaxPool2d(2, 2)\n",
        "        )\n",
        "        self.fc1 = nn.Linear(16 * 14 * 14, 128)\n",
        "        self.relu = nn.ReLU()\n",
        "        self.fc2 = nn.Linear(128, 10)\n",
        "        self.softmax = nn.Softmax()\n",
        "\n",
        "        \n",
        "    def forward(self, x):\n",
        "        x = self.vgg(x)\n",
        "        x = nn.Flatten()(x)\n",
        "        x = self.relu(self.fc1(x))\n",
        "        x = self.softmax(self.fc2(x))\n",
        "        return x\n",
        "\n",
        "model_b = Model()"
      ],
      "execution_count": null,
      "outputs": []
    },
    {
      "cell_type": "code",
      "metadata": {
        "id": "RJ_8ZD56lAG8"
      },
      "source": [
        "def train_my_model(model, iterations, criterion, optimizer):\n",
        "  iter = 0\n",
        "  iters = list()\n",
        "  losses = list()\n",
        "  accuracies = list()\n",
        "\n",
        "  for epoch in range(1, iterations):\n",
        "    for i, (images, labels) in enumerate(train_dataloader):\n",
        "        images = Variable(images)\n",
        "        labels = Variable(labels)\n",
        "\n",
        "        optimizer.zero_grad()\n",
        "        outputs = model(images)\n",
        "        loss = criterion(outputs, labels)\n",
        "        loss.backward()\n",
        "        optimizer.step()\n",
        "\n",
        "        iter+=1\n",
        "        if iter%500==0:\n",
        "            correct = 0\n",
        "            total = 0\n",
        "            for images, labels in eval_dataloader:\n",
        "                images = Variable(images)\n",
        "                images = images.float()\n",
        "                outputs = model(images)\n",
        "                _, predicted = torch.max(outputs.data, 1)\n",
        "                total+= float(labels.size(0))\n",
        "                correct+= (predicted == labels).sum().float()\n",
        "            accuracy = 100 * (correct / total)\n",
        "            iters.append(iter)\n",
        "            losses.append(loss.item())\n",
        "            accuracies.append(accuracy)\n",
        "            print(\"Iteration: {}. Loss: {}. Accuracy: {}.\".format(iter, loss.item(), accuracy))\n",
        "\n",
        "  plt.plot(iters, losses, \n",
        "    label='loss_iter', c='red')\n",
        "  plt.title('Loss rate by iters')\n",
        "  plt.xlabel('iterations')\n",
        "  plt.ylabel('loss')\n",
        "  plt.show()\n",
        "\n",
        "  plt.plot(iters, accuracies, \n",
        "    label='loss_iter', c='red')\n",
        "  plt.title('Accuracy by iters')\n",
        "  plt.xlabel('iterations')\n",
        "  plt.ylabel('accuracy')\n",
        "  plt.show()"
      ],
      "execution_count": null,
      "outputs": []
    },
    {
      "cell_type": "code",
      "metadata": {
        "id": "ZaKxBlplQ1ah"
      },
      "source": [
        "model1 = LogisticRegression(input_dim, output_dim)"
      ],
      "execution_count": null,
      "outputs": []
    },
    {
      "cell_type": "code",
      "metadata": {
        "id": "EJjzKl2MTpCp",
        "outputId": "d3f90bd0-40fd-4023-983d-1d73a3e4faeb",
        "colab": {
          "base_uri": "https://localhost:8080/",
          "height": 1000
        }
      },
      "source": [
        "train_my_model(model1, 30, torch.nn.CrossEntropyLoss(), torch.optim.SGD(model1.parameters(), lr=0.02))"
      ],
      "execution_count": null,
      "outputs": [
        {
          "output_type": "stream",
          "text": [
            "Iteration: 500. Loss: 0.6902686357498169. Accuracy: 75.76000213623047.\n",
            "Iteration: 1000. Loss: 0.5744527578353882. Accuracy: 78.64999389648438.\n",
            "Iteration: 1500. Loss: 0.5588098168373108. Accuracy: 79.90999603271484.\n",
            "Iteration: 2000. Loss: 0.6599846482276917. Accuracy: 80.98999786376953.\n",
            "Iteration: 2500. Loss: 0.5456490516662598. Accuracy: 81.22000122070312.\n",
            "Iteration: 3000. Loss: 0.5085885524749756. Accuracy: 81.56999969482422.\n",
            "Iteration: 3500. Loss: 0.43926113843917847. Accuracy: 82.02000427246094.\n",
            "Iteration: 4000. Loss: 0.573198676109314. Accuracy: 82.1500015258789.\n",
            "Iteration: 4500. Loss: 0.4262116253376007. Accuracy: 82.70000457763672.\n",
            "Iteration: 5000. Loss: 0.44663524627685547. Accuracy: 82.62000274658203.\n",
            "Iteration: 5500. Loss: 0.5981827974319458. Accuracy: 82.7300033569336.\n",
            "Iteration: 6000. Loss: 0.5114998817443848. Accuracy: 82.55000305175781.\n",
            "Iteration: 6500. Loss: 0.4435240626335144. Accuracy: 82.94000244140625.\n",
            "Iteration: 7000. Loss: 0.43843743205070496. Accuracy: 82.84000396728516.\n",
            "Iteration: 7500. Loss: 0.3538353741168976. Accuracy: 83.13999938964844.\n",
            "Iteration: 8000. Loss: 0.41231536865234375. Accuracy: 82.97000122070312.\n",
            "Iteration: 8500. Loss: 0.5350580811500549. Accuracy: 83.35000610351562.\n",
            "Iteration: 9000. Loss: 0.36959919333457947. Accuracy: 83.1500015258789.\n",
            "Iteration: 9500. Loss: 0.48140549659729004. Accuracy: 83.0.\n",
            "Iteration: 10000. Loss: 0.506596565246582. Accuracy: 83.43000030517578.\n",
            "Iteration: 10500. Loss: 0.4474031329154968. Accuracy: 83.51000213623047.\n",
            "Iteration: 11000. Loss: 0.4489108622074127. Accuracy: 83.29000091552734.\n",
            "Iteration: 11500. Loss: 0.5618417263031006. Accuracy: 83.52000427246094.\n",
            "Iteration: 12000. Loss: 0.4326845407485962. Accuracy: 83.27000427246094.\n",
            "Iteration: 12500. Loss: 0.34332573413848877. Accuracy: 83.62000274658203.\n",
            "Iteration: 13000. Loss: 0.4524890184402466. Accuracy: 83.62000274658203.\n",
            "Iteration: 13500. Loss: 0.4615640938282013. Accuracy: 83.68000030517578.\n",
            "Iteration: 14000. Loss: 0.4987950623035431. Accuracy: 83.76000213623047.\n",
            "Iteration: 14500. Loss: 0.5209235548973083. Accuracy: 83.72000122070312.\n",
            "Iteration: 15000. Loss: 0.38488003611564636. Accuracy: 83.77999877929688.\n",
            "Iteration: 15500. Loss: 0.34376072883605957. Accuracy: 83.47000122070312.\n",
            "Iteration: 16000. Loss: 0.3117079436779022. Accuracy: 83.52000427246094.\n",
            "Iteration: 16500. Loss: 0.43142300844192505. Accuracy: 83.56999969482422.\n",
            "Iteration: 17000. Loss: 0.4344930350780487. Accuracy: 83.70000457763672.\n"
          ],
          "name": "stdout"
        },
        {
          "output_type": "display_data",
          "data": {
            "image/png": "[encoded data removed]",
            "text/plain": [
              "<Figure size 432x288 with 1 Axes>"
            ]
          },
          "metadata": {
            "tags": [],
            "needs_background": "light"
          }
        },
        {
          "output_type": "display_data",
          "data": {
            "image/png": "[encoded data removed]",
            "text/plain": [
              "<Figure size 432x288 with 1 Axes>"
            ]
          },
          "metadata": {
            "tags": [],
            "needs_background": "light"
          }
        }
      ]
    },
    {
      "cell_type": "code",
      "metadata": {
        "id": "5fQOi2hYTrJU",
        "outputId": "43b89276-7c48-491f-85be-1d8089b0f5a2",
        "colab": {
          "base_uri": "https://localhost:8080/",
          "height": 940
        }
      },
      "source": [
        "train_my_model(model1, 20, torch.nn.CrossEntropyLoss(), torch.optim.RMSprop(model1.parameters(), lr=0.002))"
      ],
      "execution_count": null,
      "outputs": [
        {
          "output_type": "stream",
          "text": [
            "Iteration: 500. Loss: 0.5408148169517517. Accuracy: 83.49000549316406.\n",
            "Iteration: 1000. Loss: 0.4422314465045929. Accuracy: 84.02999877929688.\n",
            "Iteration: 1500. Loss: 0.4346010684967041. Accuracy: 84.01000213623047.\n",
            "Iteration: 2000. Loss: 0.3592582046985626. Accuracy: 83.91000366210938.\n",
            "Iteration: 2500. Loss: 0.4454893171787262. Accuracy: 84.13999938964844.\n",
            "Iteration: 3000. Loss: 0.435546875. Accuracy: 84.33000183105469.\n",
            "Iteration: 3500. Loss: 0.27704304456710815. Accuracy: 82.8499984741211.\n",
            "Iteration: 4000. Loss: 0.46649956703186035. Accuracy: 82.11000061035156.\n",
            "Iteration: 4500. Loss: 0.5294294357299805. Accuracy: 83.51000213623047.\n",
            "Iteration: 5000. Loss: 0.3476013243198395. Accuracy: 84.38999938964844.\n",
            "Iteration: 5500. Loss: 0.3921850919723511. Accuracy: 83.9800033569336.\n",
            "Iteration: 6000. Loss: 0.5244991183280945. Accuracy: 84.41999816894531.\n",
            "Iteration: 6500. Loss: 0.542685866355896. Accuracy: 83.9000015258789.\n",
            "Iteration: 7000. Loss: 0.26478779315948486. Accuracy: 84.51000213623047.\n",
            "Iteration: 7500. Loss: 0.3630634546279907. Accuracy: 84.3499984741211.\n",
            "Iteration: 8000. Loss: 0.3704906404018402. Accuracy: 84.29000091552734.\n",
            "Iteration: 8500. Loss: 0.5010267496109009. Accuracy: 84.09000396728516.\n",
            "Iteration: 9000. Loss: 0.30650004744529724. Accuracy: 84.45999908447266.\n",
            "Iteration: 9500. Loss: 0.6254109740257263. Accuracy: 84.33999633789062.\n",
            "Iteration: 10000. Loss: 0.5053611993789673. Accuracy: 84.45999908447266.\n",
            "Iteration: 10500. Loss: 0.4505091905593872. Accuracy: 84.5199966430664.\n",
            "Iteration: 11000. Loss: 0.3470712900161743. Accuracy: 83.59000396728516.\n"
          ],
          "name": "stdout"
        },
        {
          "output_type": "display_data",
          "data": {
            "image/png": "[encoded data removed]",
            "text/plain": [
              "<Figure size 432x288 with 1 Axes>"
            ]
          },
          "metadata": {
            "tags": [],
            "needs_background": "light"
          }
        },
        {
          "output_type": "display_data",
          "data": {
            "image/png": "[encoded data removed]",
            "text/plain": [
              "<Figure size 432x288 with 1 Axes>"
            ]
          },
          "metadata": {
            "tags": [],
            "needs_background": "light"
          }
        }
      ]
    },
    {
      "cell_type": "code",
      "metadata": {
        "id": "G_3sLqO6rl9E"
      },
      "source": [
        "criterion = torch.nn.CrossEntropyLoss()"
      ],
      "execution_count": null,
      "outputs": []
    },
    {
      "cell_type": "code",
      "metadata": {
        "id": "peQJDg0LWIpB",
        "outputId": "c5da7bd4-125d-4f96-a46c-984ea6940465",
        "colab": {
          "base_uri": "https://localhost:8080/",
          "height": 957
        }
      },
      "source": [
        "train_my_model(model_b, 20, criterion, torch.optim.SGD(model_b.parameters(), lr=0.01))"
      ],
      "execution_count": null,
      "outputs": [
        {
          "output_type": "stream",
          "text": [
            "/usr/local/lib/python3.6/dist-packages/ipykernel_launcher.py:21: UserWarning: Implicit dimension choice for softmax has been deprecated. Change the call to include dim=X as an argument.\n"
          ],
          "name": "stderr"
        },
        {
          "output_type": "stream",
          "text": [
            "Iteration: 500. Loss: 2.297421932220459. Accuracy: 10.520000457763672.\n",
            "Iteration: 1000. Loss: 2.2501444816589355. Accuracy: 27.360000610351562.\n",
            "Iteration: 1500. Loss: 1.9506285190582275. Accuracy: 66.43000030517578.\n",
            "Iteration: 2000. Loss: 1.7077670097351074. Accuracy: 74.47999572753906.\n",
            "Iteration: 2500. Loss: 1.6988929510116577. Accuracy: 76.06999969482422.\n",
            "Iteration: 3000. Loss: 1.7206975221633911. Accuracy: 77.1500015258789.\n",
            "Iteration: 3500. Loss: 1.6508713960647583. Accuracy: 77.62000274658203.\n",
            "Iteration: 4000. Loss: 1.7483160495758057. Accuracy: 77.20000457763672.\n",
            "Iteration: 4500. Loss: 1.6839522123336792. Accuracy: 76.20000457763672.\n",
            "Iteration: 5000. Loss: 1.6629186868667603. Accuracy: 78.47000122070312.\n",
            "Iteration: 5500. Loss: 1.6315078735351562. Accuracy: 78.37999725341797.\n",
            "Iteration: 6000. Loss: 1.6385524272918701. Accuracy: 78.79999542236328.\n",
            "Iteration: 6500. Loss: 1.6713224649429321. Accuracy: 77.34000396728516.\n",
            "Iteration: 7000. Loss: 1.6592016220092773. Accuracy: 78.5.\n",
            "Iteration: 7500. Loss: 1.6861846446990967. Accuracy: 79.41999816894531.\n",
            "Iteration: 8000. Loss: 1.6463741064071655. Accuracy: 79.54999542236328.\n",
            "Iteration: 8500. Loss: 1.602921485900879. Accuracy: 78.52999877929688.\n",
            "Iteration: 9000. Loss: 1.5959995985031128. Accuracy: 79.41999816894531.\n",
            "Iteration: 9500. Loss: 1.7160016298294067. Accuracy: 77.95999908447266.\n",
            "Iteration: 10000. Loss: 1.6423437595367432. Accuracy: 79.3499984741211.\n",
            "Iteration: 10500. Loss: 1.682869553565979. Accuracy: 79.83999633789062.\n",
            "Iteration: 11000. Loss: 1.6864749193191528. Accuracy: 79.77999877929688.\n"
          ],
          "name": "stdout"
        },
        {
          "output_type": "display_data",
          "data": {
            "image/png": "[encoded data removed]",
            "text/plain": [
              "<Figure size 432x288 with 1 Axes>"
            ]
          },
          "metadata": {
            "tags": [],
            "needs_background": "light"
          }
        },
        {
          "output_type": "display_data",
          "data": {
            "image/png": "[encoded data removed]",
            "text/plain": [
              "<Figure size 432x288 with 1 Axes>"
            ]
          },
          "metadata": {
            "tags": [],
            "needs_background": "light"
          }
        }
      ]
    }
  ]
}